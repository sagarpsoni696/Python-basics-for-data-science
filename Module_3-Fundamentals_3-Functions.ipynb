{
 "cells": [
  {
   "cell_type": "markdown",
   "metadata": {},
   "source": [
    "# Programming Fundamentals #3\n",
    "## Functions"
   ]
  },
  {
   "cell_type": "code",
   "execution_count": 5,
   "metadata": {},
   "outputs": [],
   "source": [
    "# A functions is just a piece of code that can be reused withouth being written every time\n",
    "# Python has many built-in functions, but others can be imported or even create ad-hoc"
   ]
  },
  {
   "cell_type": "code",
   "execution_count": 6,
   "metadata": {},
   "outputs": [
    {
     "data": {
      "text/plain": [
       "3"
      ]
     },
     "execution_count": 6,
     "metadata": {},
     "output_type": "execute_result"
    }
   ],
   "source": [
    "# For instnace, the fucntion \"len()\" takes a variable and return the number of elements in it\n",
    "a_list = [\"A\", \"B\", \"C\"]\n",
    "len(a_list)"
   ]
  },
  {
   "cell_type": "code",
   "execution_count": 8,
   "metadata": {},
   "outputs": [
    {
     "name": "stdout",
     "output_type": "stream",
     "text": [
      "14.0\n"
     ]
    }
   ],
   "source": [
    "# Another useful function is \"sum()\"\n",
    "ratings = [5.0,1.5,3.4,4.1]\n",
    "s = sum(ratings)\n",
    "print(s)"
   ]
  },
  {
   "cell_type": "code",
   "execution_count": 9,
   "metadata": {},
   "outputs": [],
   "source": [
    "# Functions and Methods are similar, but they are somewhat different.\n",
    "# The following description comes from https://www.tutorialspoint.com."
   ]
  },
  {
   "cell_type": "markdown",
   "metadata": {},
   "source": [
    "A function is a block of code to carry out a specific task, will contain its own scope and is called by name.\n",
    "All functions may contain zero (i.e. no) arguments or more than one arguments.\n",
    "On exit, a function can or can not return one or more values."
   ]
  },
  {
   "cell_type": "code",
   "execution_count": 16,
   "metadata": {},
   "outputs": [],
   "source": [
    "# The basic syntax of a function in Python looks like this\n",
    "\n",
    "def functionName(arg1, arg2, arg3, arg4): # State from zero to n arguments separated by commas\n",
    "    pass # Function_body (\"pass\" equals \"do nothing\")"
   ]
  },
  {
   "cell_type": "markdown",
   "metadata": {},
   "source": [
    "There are three kinds of functions:\n",
    "- **Built-in functions** ( As the name suggests, these functions come with the Python language, for example, help() to ask for any help, max()- to get maximum value, type()- to return the type of an object and many more.)\n",
    "- **User-defined functions** ( These are the functions that users create to help them, like the “sum” function we have created above).\n",
    "- **Anonymous functions** (also called **_lambda functions_** and unlike normal function which is defined using def keyword are defined using lambda keyword)."
   ]
  },
  {
   "cell_type": "markdown",
   "metadata": {},
   "source": [
    "A method in python is somewhat similar to a function, except it is associated with object/classes. Methods in python are very similar to functions except for two major differences.\n",
    "- the method is implicitly used for an object for which it is called.\n",
    "- the method is accessible to data that is contained within the class."
   ]
  },
  {
   "cell_type": "code",
   "execution_count": null,
   "metadata": {},
   "outputs": [],
   "source": [
    "# A method syntax would look like this one\n",
    "\n",
    "class ClassName:\n",
    "   def method_name():\n",
    "      # Method_body"
   ]
  },
  {
   "cell_type": "code",
   "execution_count": 18,
   "metadata": {},
   "outputs": [
    {
     "name": "stdout",
     "output_type": "stream",
     "text": [
      "I am a Cat\n"
     ]
    }
   ],
   "source": [
    "# An example of method is the following one:\n",
    "\n",
    "class Pet(object):\n",
    "  def my_method(self):\n",
    "    print(\"I am a Cat\")\n",
    "cat = Pet()\n",
    "cat.my_method()"
   ]
  },
  {
   "cell_type": "code",
   "execution_count": 27,
   "metadata": {},
   "outputs": [
    {
     "name": "stdout",
     "output_type": "stream",
     "text": [
      "6\n",
      "11\n",
      "Help on function add1 in module __main__:\n",
      "\n",
      "add1(a)\n",
      "    This function returns the passed value plus one\n",
      "\n"
     ]
    }
   ],
   "source": [
    "# An example of user-defined function is instead the following one.\n",
    "# A function in Python start with the keyword \"def\"\n",
    "\n",
    "def add1(a):   # This arguments is called \"Formal Parameter\" (in contrast to \"Variadic Parameters\")\n",
    "    \"This function returns the passed value plus one\" # Quotation marks can be used to document the function\n",
    "    b = a + 1  # this is the code block\n",
    "    return b   # return what output\n",
    "\n",
    "print(add1(5))\n",
    "print(add1(10))\n",
    "#print(add1(a))  # this return an error because the argument passed is a string that does not work with the function code\n",
    "\n",
    "# Note: by adding a string that document the function we can use the built-in help() with our function\n",
    "help(add1)"
   ]
  },
  {
   "cell_type": "code",
   "execution_count": 28,
   "metadata": {},
   "outputs": [
    {
     "name": "stdout",
     "output_type": "stream",
     "text": [
      "Michael Jackson\n"
     ]
    }
   ],
   "source": [
    "# In many cases, a function does not have a \"return\" statement\n",
    "\n",
    "def MJ():\n",
    "    print(\"Michael Jackson\")\n",
    "\n",
    "MJ()"
   ]
  },
  {
   "cell_type": "code",
   "execution_count": 33,
   "metadata": {},
   "outputs": [
    {
     "name": "stdout",
     "output_type": "stream",
     "text": [
      "None\n"
     ]
    }
   ],
   "source": [
    "# Soome functions can even have no code block\n",
    "# However, Python does not allow a function to be empty: the statement \"pass\" should be used.\n",
    "\n",
    "def NoWork():\n",
    "    pass       # Without this the program will throw an error when the function is called\n",
    "\n",
    "NoWork()         # Does nothing\n",
    "print(NoWork())  # Print \"None\"\n",
    "\n",
    "# It is like writing:\n",
    "def NoWork():\n",
    "    pass\n",
    "    return None"
   ]
  },
  {
   "cell_type": "code",
   "execution_count": 35,
   "metadata": {},
   "outputs": [
    {
     "name": "stdout",
     "output_type": "stream",
     "text": [
      "10 plus 1 equals 11\n"
     ]
    },
    {
     "data": {
      "text/plain": [
       "11"
      ]
     },
     "execution_count": 35,
     "metadata": {},
     "output_type": "execute_result"
    }
   ],
   "source": [
    "# Usually functions perform more than one task\n",
    "\n",
    "def add1(a):\n",
    "    b=a+1\n",
    "    print(a, \"plus 1 equals\", b)\n",
    "    return b\n",
    "\n",
    "add1(10)"
   ]
  },
  {
   "cell_type": "code",
   "execution_count": 38,
   "metadata": {},
   "outputs": [
    {
     "name": "stdout",
     "output_type": "stream",
     "text": [
      "Album 0 Rating is  10.0\n",
      "Album 1 Rating is  8.5\n",
      "Album 2 Rating is  9.5\n"
     ]
    }
   ],
   "source": [
    "# We can use Loops in Functions, for example:\n",
    "\n",
    "def printStuff(Stuff):\n",
    "    for i,s in enumerate(Stuff):\n",
    "        print(\"Album\", i, \"Rating is \", s)\n",
    "\n",
    "album_ratings = [10.0, 8.5, 9.5]\n",
    "printStuff(album_ratings)        # Pay attention to case-sensitive"
   ]
  },
  {
   "cell_type": "code",
   "execution_count": 40,
   "metadata": {},
   "outputs": [
    {
     "name": "stdout",
     "output_type": "stream",
     "text": [
      "MJ\n",
      "AC/DC\n",
      "Blink\n"
     ]
    }
   ],
   "source": [
    "# \"Variadic Parameters\" allows us to input a number of arguments that can vary (in contrast to \"Formal Parameters\")\n",
    "\n",
    "def ArtistNames(*names):\n",
    "    for name in names:\n",
    "        print(name)\n",
    "        \n",
    "ArtistNames(\"MJ\", \"AC/DC\", \"Blink\") # We can pass as many arguments as we want"
   ]
  },
  {
   "cell_type": "code",
   "execution_count": 57,
   "metadata": {},
   "outputs": [
    {
     "name": "stdout",
     "output_type": "stream",
     "text": [
      "AC\n",
      "z is ACDC\n"
     ]
    }
   ],
   "source": [
    "# The \"Scope\" of a variable is the part of the program where that variable is accessible.\n",
    "# Variables that are defined outside of any function are said to be within the \"Global Scope\",\n",
    "# meaning they can be accessed anywhere after they are defined.\n",
    "\n",
    "# Here we have \"x\", and \"z\" as \"global variables\"\n",
    "\n",
    "def AddDC(y):\n",
    "    y = y + \"DC\"\n",
    "    print(x)\n",
    "    return(y)\n",
    "\n",
    "x = \"AC\"       # \"x\" is the Global Scope, and so \"x\" is called a \"global variable\"\n",
    "z = AddDC(x)\n",
    "print(\"z is\", z)"
   ]
  },
  {
   "cell_type": "code",
   "execution_count": 60,
   "metadata": {},
   "outputs": [
    {
     "ename": "NameError",
     "evalue": "name 'Date' is not defined",
     "output_type": "error",
     "traceback": [
      "\u001b[0;31m---------------------------------------------------------------------------\u001b[0m",
      "\u001b[0;31mNameError\u001b[0m                                 Traceback (most recent call last)",
      "\u001b[0;32m<ipython-input-60-0e4d3b96b92a>\u001b[0m in \u001b[0;36m<module>\u001b[0;34m\u001b[0m\n\u001b[1;32m      6\u001b[0m \u001b[0;34m\u001b[0m\u001b[0m\n\u001b[1;32m      7\u001b[0m \u001b[0mThriller\u001b[0m\u001b[0;34m(\u001b[0m\u001b[0;34m)\u001b[0m\u001b[0;34m\u001b[0m\u001b[0;34m\u001b[0m\u001b[0m\n\u001b[0;32m----> 8\u001b[0;31m \u001b[0mDate\u001b[0m        \u001b[0;31m# This will throw an error because \"Date\" is known only within the function\u001b[0m\u001b[0;34m\u001b[0m\u001b[0;34m\u001b[0m\u001b[0m\n\u001b[0m",
      "\u001b[0;31mNameError\u001b[0m: name 'Date' is not defined"
     ]
    }
   ],
   "source": [
    "# Here, instead,  \"Data\" is an example of \"local variables\"\n",
    "\n",
    "def Thriller():\n",
    "    Date = 1982\n",
    "    return Date\n",
    "\n",
    "Thriller()\n",
    "Date        # This will throw an error because \"Date\" is known only within the function"
   ]
  },
  {
   "cell_type": "code",
   "execution_count": 61,
   "metadata": {},
   "outputs": [
    {
     "data": {
      "text/plain": [
       "1982"
      ]
     },
     "execution_count": 61,
     "metadata": {},
     "output_type": "execute_result"
    }
   ],
   "source": [
    "# However, we can use the keyword \"global\" to define a global variable despite being inside a function\n",
    "# The previous code can be modified in this way to work.\n",
    "def Thriller():\n",
    "    global Date\n",
    "    Date = 1982\n",
    "    return Date\n",
    "\n",
    "Thriller()\n",
    "Date   "
   ]
  },
  {
   "cell_type": "code",
   "execution_count": null,
   "metadata": {},
   "outputs": [],
   "source": []
  },
  {
   "cell_type": "code",
   "execution_count": null,
   "metadata": {},
   "outputs": [],
   "source": []
  }
 ],
 "metadata": {
  "kernelspec": {
   "display_name": "Python",
   "language": "python",
   "name": "conda-env-python-py"
  },
  "language_info": {
   "codemirror_mode": {
    "name": "ipython",
    "version": 3
   },
   "file_extension": ".py",
   "mimetype": "text/x-python",
   "name": "python",
   "nbconvert_exporter": "python",
   "pygments_lexer": "ipython3",
   "version": "3.6.7"
  }
 },
 "nbformat": 4,
 "nbformat_minor": 4
}
