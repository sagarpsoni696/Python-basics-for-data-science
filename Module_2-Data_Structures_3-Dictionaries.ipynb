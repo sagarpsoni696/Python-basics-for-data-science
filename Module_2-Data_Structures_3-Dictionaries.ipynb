{
 "cells": [
  {
   "cell_type": "markdown",
   "metadata": {},
   "source": [
    "# Dictionaries"
   ]
  },
  {
   "cell_type": "code",
   "execution_count": 2,
   "metadata": {},
   "outputs": [
    {
     "name": "stdout",
     "output_type": "stream",
     "text": [
      "{'key1': 1, 'key2': '2', 'key3': (3, 3, 3), 'key4': [4, 4, 4], 'key5': 5}\n",
      "<class 'dict'>\n"
     ]
    }
   ],
   "source": [
    "# Dictionaries are another type of collections (like tuples, lists, and sets).\n",
    "# Dictionaries are similar to Lists, but rather than having integers as indexes they can have another type of variable\n",
    "# Thus, in this case we will not have \"indexes\", but rather \"keys\".\n",
    "# To create a variable of type dictionary use curly brackets.\n",
    "# The first element of each pair is the \"key\" and the second is the element associated with the key\n",
    "# Each key and value pair must be separated by a comma\n",
    "a_dict = {\"key1\":1, \"key2\":\"2\", \"key3\":(3,3,3), \"key4\":[4,4,4], ('key5'):5}\n",
    "print(a_dict)\n",
    "print(type(a_dict))\n",
    "# Note that while keys must be immutable and unique, the associated values can be immutable, mutable, and duplicates\n"
   ]
  },
  {
   "cell_type": "code",
   "execution_count": 5,
   "metadata": {},
   "outputs": [
    {
     "name": "stdout",
     "output_type": "stream",
     "text": [
      "1\n",
      "(3, 3, 3)\n",
      "5\n"
     ]
    }
   ],
   "source": [
    "# Since keys functions like int indexes in lists, we use keys to call the associated value\n",
    "print(a_dict[\"key1\"])\n",
    "print(a_dict[\"key3\"])\n",
    "print(a_dict[\"key5\"])"
   ]
  },
  {
   "cell_type": "code",
   "execution_count": 6,
   "metadata": {},
   "outputs": [
    {
     "name": "stdout",
     "output_type": "stream",
     "text": [
      "{'key1': 1, 'key2': '2', 'key3': (3, 3, 3), 'key4': [4, 4, 4], 'key5': 5}\n",
      "{'key1': 1, 'key2': '2', 'key3': (3, 3, 3), 'key4': [4, 4, 4], 'key5': 5, 'key6': 6.6}\n"
     ]
    }
   ],
   "source": [
    "# To add a new entry into a variable of type dictionary, just assign a value to a new key \n",
    "print(a_dict)\n",
    "a_dict[\"key6\"] = 6.6\n",
    "print(a_dict)\n",
    "# Note that this time the operator \"=\" is used rather than \":\""
   ]
  },
  {
   "cell_type": "code",
   "execution_count": 8,
   "metadata": {},
   "outputs": [
    {
     "name": "stdout",
     "output_type": "stream",
     "text": [
      "{'key1': 1, 'key2': '2', 'key3': (3, 3, 3), 'key4': [4, 4, 4], 'key5': 5}\n"
     ]
    }
   ],
   "source": [
    "# To delete an entry simply use the function \"del(variable_name[key])\"\"\n",
    "del(a_dict[\"key6\"])\n",
    "print(a_dict)"
   ]
  },
  {
   "cell_type": "code",
   "execution_count": 19,
   "metadata": {},
   "outputs": [
    {
     "name": "stdout",
     "output_type": "stream",
     "text": [
      "True\n",
      "False\n",
      "dict_keys(['key1', 'key2', 'key3', 'key4', 'key5'])\n",
      "dict_values([1, '2', (3, 3, 3), [4, 4, 4], 5])\n"
     ]
    }
   ],
   "source": [
    "# To verifiy if a *key* (not an element) is in present in a variable of type dictionary use \"in\"\n",
    "print(\"key1\" in a_dict)\n",
    "print(\"8\" in a_dict)\n",
    "# To see all the keys used in a var of type dictionary use the method variable_name.keys()\n",
    "print(a_dict.keys())\n",
    "# To see instead all the associated values use the method variable_name.values()\n",
    "print(a_dict.values())"
   ]
  },
  {
   "cell_type": "code",
   "execution_count": null,
   "metadata": {},
   "outputs": [],
   "source": []
  }
 ],
 "metadata": {
  "kernelspec": {
   "display_name": "Python",
   "language": "python",
   "name": "conda-env-python-py"
  },
  "language_info": {
   "codemirror_mode": {
    "name": "ipython",
    "version": 3
   },
   "file_extension": ".py",
   "mimetype": "text/x-python",
   "name": "python",
   "nbconvert_exporter": "python",
   "pygments_lexer": "ipython3",
   "version": "3.6.7"
  }
 },
 "nbformat": 4,
 "nbformat_minor": 4
}
