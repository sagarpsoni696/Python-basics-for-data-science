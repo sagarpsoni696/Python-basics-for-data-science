{
 "cells": [
  {
   "cell_type": "code",
   "execution_count": 68,
   "metadata": {},
   "outputs": [
    {
     "name": "stdout",
     "output_type": "stream",
     "text": [
      "(1, 2, 3, 4)\n"
     ]
    }
   ],
   "source": [
    "# \"Tuples\" are a ordered sequence, they are written as comma-separated elements within parenthesis\n",
    "a_tuple = (1, 2, 3, 4)\n",
    "print(a_tuple)"
   ]
  },
  {
   "cell_type": "code",
   "execution_count": 69,
   "metadata": {},
   "outputs": [
    {
     "name": "stdout",
     "output_type": "stream",
     "text": [
      "<class 'tuple'>\n"
     ]
    }
   ],
   "source": [
    "# A tuple can contain elements of different types (e.g. int, strings, etc.), but the type will remain \"tuple\"\n",
    "another_tuple = (\"one\", 2, 3.5)\n",
    "print(type(another_tuple))"
   ]
  },
  {
   "cell_type": "code",
   "execution_count": 70,
   "metadata": {},
   "outputs": [
    {
     "name": "stdout",
     "output_type": "stream",
     "text": [
      "one\n",
      "<class 'str'>\n",
      "3.5\n",
      "<class 'float'>\n",
      "3.5\n"
     ]
    }
   ],
   "source": [
    "#Each element of a tuple can be accessed using indexes\n",
    "print(another_tuple[0])        # The first element of a tuple\n",
    "print(type(another_tuple[0]))  # The type of that first element\n",
    "print(another_tuple[2])        # The third element of a tuple\n",
    "print(type(another_tuple[2]))  # The type of that third element\n",
    "# Negative index can also be used, with -1 indicating the last element of the tuple \n",
    "print(another_tuple[-1])"
   ]
  },
  {
   "cell_type": "code",
   "execution_count": 71,
   "metadata": {},
   "outputs": [
    {
     "name": "stdout",
     "output_type": "stream",
     "text": [
      "('one', 2, 3.5, 'four')\n"
     ]
    }
   ],
   "source": [
    "# Tuples can be combined using the operator \"+\"\n",
    "tuple1 = (\"one\", 2)\n",
    "tuple2 = (3.5, \"four\")\n",
    "tuple3 = tuple1 + tuple2\n",
    "print(tuple3)"
   ]
  },
  {
   "cell_type": "code",
   "execution_count": 72,
   "metadata": {},
   "outputs": [
    {
     "name": "stdout",
     "output_type": "stream",
     "text": [
      "(2, 3.5)\n",
      "()\n"
     ]
    }
   ],
   "source": [
    "# Tuples can also be sliced\n",
    "print(tuple3[1:3])\n",
    "print(tuple3[-1:-2]) # Note that with negative numbers it does not work"
   ]
  },
  {
   "cell_type": "code",
   "execution_count": 73,
   "metadata": {},
   "outputs": [
    {
     "name": "stdout",
     "output_type": "stream",
     "text": [
      "4\n"
     ]
    }
   ],
   "source": [
    "# Ask the lenght of a tuple using \"len\" command\n",
    "print(len(tuple3))\n"
   ]
  },
  {
   "cell_type": "code",
   "execution_count": 99,
   "metadata": {},
   "outputs": [
    {
     "name": "stdout",
     "output_type": "stream",
     "text": [
      "('one', 2, 3.5, 'four')\n",
      "()\n",
      "('four',)\n",
      "('four',)\n",
      "('four',)\n",
      "(2, 3.5, 'four')\n"
     ]
    }
   ],
   "source": [
    "# Note that the last index is one larger than the length of the list\n",
    "print(tuple3)\n",
    "print(tuple3[3:3]) # The same index will return nothing\n",
    "print(tuple3[3:4])\n",
    "print(tuple3[3:5]) # It will not throw an eror using an index larger than the length of the tuples\n",
    "print(tuple3[3:(len(tuple3)+10)]) # Same as above\n",
    "print(tuple3[1:])  # Print all elements starting from the second element"
   ]
  },
  {
   "cell_type": "code",
   "execution_count": 75,
   "metadata": {},
   "outputs": [
    {
     "ename": "TypeError",
     "evalue": "'tuple' object does not support item assignment",
     "output_type": "error",
     "traceback": [
      "\u001b[0;31m---------------------------------------------------------------------------\u001b[0m",
      "\u001b[0;31mTypeError\u001b[0m                                 Traceback (most recent call last)",
      "\u001b[0;32m<ipython-input-75-2c46acf7b271>\u001b[0m in \u001b[0;36m<module>\u001b[0;34m\u001b[0m\n\u001b[1;32m      1\u001b[0m \u001b[0;31m# Taples are immutable (like strings), we can't change them by using indexes\u001b[0m\u001b[0;34m\u001b[0m\u001b[0;34m\u001b[0m\u001b[0;34m\u001b[0m\u001b[0m\n\u001b[0;32m----> 2\u001b[0;31m \u001b[0mtuple3\u001b[0m\u001b[0;34m[\u001b[0m\u001b[0;36m1\u001b[0m\u001b[0;34m]\u001b[0m \u001b[0;34m=\u001b[0m \u001b[0;34m\"zero\"\u001b[0m \u001b[0;31m# This will throw an error\u001b[0m\u001b[0;34m\u001b[0m\u001b[0;34m\u001b[0m\u001b[0m\n\u001b[0m",
      "\u001b[0;31mTypeError\u001b[0m: 'tuple' object does not support item assignment"
     ]
    }
   ],
   "source": [
    "# Taples are immutable (like strings), we can't change them by using indexes\n",
    "tuple3[1] = \"zero\" # This will throw an error"
   ]
  },
  {
   "cell_type": "code",
   "execution_count": 76,
   "metadata": {},
   "outputs": [
    {
     "data": {
      "text/plain": [
       "[1, 2, 5, 7, 12]"
      ]
     },
     "execution_count": 76,
     "metadata": {},
     "output_type": "execute_result"
    }
   ],
   "source": [
    "# There are specific functions to work with tuples\n",
    "# To sort element use \"sorted(variable_name)\"\n",
    "tuple_num = (1,5,12,7,2)\n",
    "sorted(tuple_num)"
   ]
  },
  {
   "cell_type": "code",
   "execution_count": 77,
   "metadata": {},
   "outputs": [
    {
     "name": "stdout",
     "output_type": "stream",
     "text": [
      "(1, 2, ('pop', 'rock'), 3, 5, 'disco', 2)\n",
      "<class 'tuple'>\n"
     ]
    }
   ],
   "source": [
    "# A tuple can contain other tuples, this is call \"nesting\"\n",
    "tuple_of_tuples = (1, 2, (\"pop\", \"rock\"), 3, 5, (\"disco\"), 2)\n",
    "print(tuple_of_tuples)\n",
    "print(type(tuple_of_tuples))"
   ]
  },
  {
   "cell_type": "code",
   "execution_count": 78,
   "metadata": {},
   "outputs": [
    {
     "name": "stdout",
     "output_type": "stream",
     "text": [
      "(1, 2, ('pop', 'rock'), 3, 5, 'disco', 2)\n",
      "2\n",
      "('pop', 'rock')\n",
      "pop\n"
     ]
    }
   ],
   "source": [
    "# When a tuple is nested, pay attention on how to call specific elements in it\n",
    "print(tuple_of_tuples)\n",
    "print(tuple_of_tuples[1])     # Call the second element \"2\"\n",
    "print(tuple_of_tuples[2])     # Call the third element (which is another tuple) \"(\"pop\", \"rock\")\"\n",
    "print(tuple_of_tuples[2][0])  # Call the first element of the third element (i.e. the \"pop\" in tuple inside the tuple  )"
   ]
  },
  {
   "cell_type": "code",
   "execution_count": 79,
   "metadata": {},
   "outputs": [
    {
     "name": "stdout",
     "output_type": "stream",
     "text": [
      "['Andrea Scalco', 10.1, 1990]\n",
      "<class 'list'>\n"
     ]
    }
   ],
   "source": [
    "# Like Tuples, Lists are also an ordered sequence of elements\n",
    "# List are defined by square brackets (whereas Tuples are defined using rounded parenthesis)\n",
    "a_list = [\"Andrea Scalco\", 10.1, 1990]\n",
    "print(a_list)\n",
    "print(type(a_list))"
   ]
  },
  {
   "cell_type": "code",
   "execution_count": 80,
   "metadata": {},
   "outputs": [
    {
     "name": "stdout",
     "output_type": "stream",
     "text": [
      "Andrea Scalco\n",
      "AScalco\n",
      "['AScalco', 10.1, 1990]\n",
      "[10.1, 1990]\n"
     ]
    }
   ],
   "source": [
    "# Lists are different from tuples in many aspects, for instance:\n",
    "# 1. Lists are mutable (whereas tuples are not)\n",
    "print(a_list[0])\n",
    "a_list[0] = \"AScalco\"\n",
    "print(a_list[0])\n",
    "print(a_list)\n",
    "# 2. For the same reason, we can delete elements of a list\n",
    "del(a_list[0])\n",
    "print(a_list)\n",
    "# 3. Lists can contains different types of elements, among which lists and tuples"
   ]
  },
  {
   "cell_type": "code",
   "execution_count": 81,
   "metadata": {},
   "outputs": [
    {
     "name": "stdout",
     "output_type": "stream",
     "text": [
      "10.1\n",
      "1990\n"
     ]
    }
   ],
   "source": [
    "# Like tuples, indexes are used to access the elements of lists\n",
    "print(a_list[0])\n",
    "print(a_list[-1])"
   ]
  },
  {
   "cell_type": "code",
   "execution_count": 82,
   "metadata": {},
   "outputs": [
    {
     "name": "stdout",
     "output_type": "stream",
     "text": [
      "[1990]\n",
      "[1990]\n",
      "[10.1, 1990, 10.1, 1990]\n"
     ]
    }
   ],
   "source": [
    " # For slicing and combining, the same rules of tuples can be applied to lists\n",
    "print(a_list[1:2])\n",
    "print(a_list[1:3])\n",
    "a_list_twice = a_list * 2\n",
    "print(a_list_twice)"
   ]
  },
  {
   "cell_type": "code",
   "execution_count": 83,
   "metadata": {},
   "outputs": [
    {
     "name": "stdout",
     "output_type": "stream",
     "text": [
      "[10.1, 1990]\n",
      "[10.1, 1990, 'pop', 10]\n"
     ]
    }
   ],
   "source": [
    "# Since lists are mutable we can change them.\n",
    "# Lists have proper methods as well (like, variable_name.method())\n",
    "print(a_list)\n",
    "a_list.extend([\"pop\", 10]) # The elements will be added to the list as single elements despite the brackets\n",
    "print(a_list)\n",
    "# print(a_list.extend([\"pop\", 10])) # This will return \"None\":  you can't call the method in command (?)"
   ]
  },
  {
   "cell_type": "code",
   "execution_count": 84,
   "metadata": {},
   "outputs": [
    {
     "name": "stdout",
     "output_type": "stream",
     "text": [
      "[10.1, 1990, 'pop', 10]\n",
      "[10.1, 1990, 'pop', 10, ['rock', 15]]\n"
     ]
    }
   ],
   "source": [
    "# Another method that works on Lists is \"append\"\n",
    "print(a_list)\n",
    "a_list.append([\"rock\",15])\n",
    "print(a_list)\n",
    "# Note that the difference with \"extend\" is that \"append\" add the argument as a single element rather than single elements"
   ]
  },
  {
   "cell_type": "code",
   "execution_count": 85,
   "metadata": {},
   "outputs": [
    {
     "name": "stdout",
     "output_type": "stream",
     "text": [
      "['hard', 'rock', 'hard', 'die']\n",
      "['A, B, C, D']\n",
      "['A, B, C, D']\n"
     ]
    }
   ],
   "source": [
    "# Strings can be converted into lists using the method \"split()\"\n",
    "a_string = \"hard rock hard die\"\n",
    "splitted_string_1 = a_string.split() # Split using \"space\" as default separator\n",
    "print(splitted_string_1)\n",
    "# Other separators can also be used\n",
    "a_comma_sep_string = \"A, B, C, D\"\n",
    "splitted_string_2 = a_comma_sep_string.split(\".\")\n",
    "print(splitted_string_2)\n",
    "# If you use the wrong separetor it will not split the string\n",
    "splitted_string_3 = a_comma_sep_string.split(\"~\")\n",
    "print(splitted_string_3) "
   ]
  },
  {
   "cell_type": "code",
   "execution_count": 87,
   "metadata": {},
   "outputs": [
    {
     "name": "stdout",
     "output_type": "stream",
     "text": [
      "['hard rock', 99, 3.5]\n",
      "['hard rock', 99, 3.5]\n",
      "['pop songs', 99, 3.5]\n"
     ]
    }
   ],
   "source": [
    "# \"Aliasing\" refers to the fact that multiple names refer (\"point\") to the same variable\n",
    "A = [\"hard rock\", 99, 3.5]\n",
    "B = A \n",
    "print(A)\n",
    "print(B)\n",
    "# Both A and B points to the same variable: this become important since lists are mutable\n",
    "A[0] = \"pop songs\"\n",
    "print(B)\n"
   ]
  },
  {
   "cell_type": "code",
   "execution_count": 91,
   "metadata": {},
   "outputs": [
    {
     "name": "stdout",
     "output_type": "stream",
     "text": [
      "['hard rock', 99, 3.5]\n",
      "['hard rock', 99, 3.5]\n",
      "['hard rock', 99, 3.5]\n"
     ]
    }
   ],
   "source": [
    "# We can \"clone\" a list, so that it will have the same content of the original one, but it will point to another variable\n",
    "A = [\"hard rock\", 99, 3.5]\n",
    "B = A[:]\n",
    "print(A)\n",
    "print(B)\n",
    "# Now, if I make a change to A and B will be remain unaltered because it is another variable per se\n",
    "A[0] = \"pop songs\"\n",
    "print(B)"
   ]
  },
  {
   "cell_type": "code",
   "execution_count": 98,
   "metadata": {},
   "outputs": [
    {
     "name": "stdout",
     "output_type": "stream",
     "text": [
      "Help on list object:\n",
      "\n",
      "class list(object)\n",
      " |  list() -> new empty list\n",
      " |  list(iterable) -> new list initialized from iterable's items\n",
      " |  \n",
      " |  Methods defined here:\n",
      " |  \n",
      " |  __add__(self, value, /)\n",
      " |      Return self+value.\n",
      " |  \n",
      " |  __contains__(self, key, /)\n",
      " |      Return key in self.\n",
      " |  \n",
      " |  __delitem__(self, key, /)\n",
      " |      Delete self[key].\n",
      " |  \n",
      " |  __eq__(self, value, /)\n",
      " |      Return self==value.\n",
      " |  \n",
      " |  __ge__(self, value, /)\n",
      " |      Return self>=value.\n",
      " |  \n",
      " |  __getattribute__(self, name, /)\n",
      " |      Return getattr(self, name).\n",
      " |  \n",
      " |  __getitem__(...)\n",
      " |      x.__getitem__(y) <==> x[y]\n",
      " |  \n",
      " |  __gt__(self, value, /)\n",
      " |      Return self>value.\n",
      " |  \n",
      " |  __iadd__(self, value, /)\n",
      " |      Implement self+=value.\n",
      " |  \n",
      " |  __imul__(self, value, /)\n",
      " |      Implement self*=value.\n",
      " |  \n",
      " |  __init__(self, /, *args, **kwargs)\n",
      " |      Initialize self.  See help(type(self)) for accurate signature.\n",
      " |  \n",
      " |  __iter__(self, /)\n",
      " |      Implement iter(self).\n",
      " |  \n",
      " |  __le__(self, value, /)\n",
      " |      Return self<=value.\n",
      " |  \n",
      " |  __len__(self, /)\n",
      " |      Return len(self).\n",
      " |  \n",
      " |  __lt__(self, value, /)\n",
      " |      Return self<value.\n",
      " |  \n",
      " |  __mul__(self, value, /)\n",
      " |      Return self*value.\n",
      " |  \n",
      " |  __ne__(self, value, /)\n",
      " |      Return self!=value.\n",
      " |  \n",
      " |  __new__(*args, **kwargs) from builtins.type\n",
      " |      Create and return a new object.  See help(type) for accurate signature.\n",
      " |  \n",
      " |  __repr__(self, /)\n",
      " |      Return repr(self).\n",
      " |  \n",
      " |  __reversed__(...)\n",
      " |      L.__reversed__() -- return a reverse iterator over the list\n",
      " |  \n",
      " |  __rmul__(self, value, /)\n",
      " |      Return value*self.\n",
      " |  \n",
      " |  __setitem__(self, key, value, /)\n",
      " |      Set self[key] to value.\n",
      " |  \n",
      " |  __sizeof__(...)\n",
      " |      L.__sizeof__() -- size of L in memory, in bytes\n",
      " |  \n",
      " |  append(...)\n",
      " |      L.append(object) -> None -- append object to end\n",
      " |  \n",
      " |  clear(...)\n",
      " |      L.clear() -> None -- remove all items from L\n",
      " |  \n",
      " |  copy(...)\n",
      " |      L.copy() -> list -- a shallow copy of L\n",
      " |  \n",
      " |  count(...)\n",
      " |      L.count(value) -> integer -- return number of occurrences of value\n",
      " |  \n",
      " |  extend(...)\n",
      " |      L.extend(iterable) -> None -- extend list by appending elements from the iterable\n",
      " |  \n",
      " |  index(...)\n",
      " |      L.index(value, [start, [stop]]) -> integer -- return first index of value.\n",
      " |      Raises ValueError if the value is not present.\n",
      " |  \n",
      " |  insert(...)\n",
      " |      L.insert(index, object) -- insert object before index\n",
      " |  \n",
      " |  pop(...)\n",
      " |      L.pop([index]) -> item -- remove and return item at index (default last).\n",
      " |      Raises IndexError if list is empty or index is out of range.\n",
      " |  \n",
      " |  remove(...)\n",
      " |      L.remove(value) -> None -- remove first occurrence of value.\n",
      " |      Raises ValueError if the value is not present.\n",
      " |  \n",
      " |  reverse(...)\n",
      " |      L.reverse() -- reverse *IN PLACE*\n",
      " |  \n",
      " |  sort(...)\n",
      " |      L.sort(key=None, reverse=False) -> None -- stable sort *IN PLACE*\n",
      " |  \n",
      " |  ----------------------------------------------------------------------\n",
      " |  Data and other attributes defined here:\n",
      " |  \n",
      " |  __hash__ = None\n",
      "\n"
     ]
    }
   ],
   "source": [
    "# For information on methods that can be applied to a type of variable just call the function \"help(variable_name)\"\n",
    "help(a_list)"
   ]
  },
  {
   "cell_type": "code",
   "execution_count": null,
   "metadata": {},
   "outputs": [],
   "source": []
  }
 ],
 "metadata": {
  "kernelspec": {
   "display_name": "Python",
   "language": "python",
   "name": "conda-env-python-py"
  },
  "language_info": {
   "codemirror_mode": {
    "name": "ipython",
    "version": 3
   },
   "file_extension": ".py",
   "mimetype": "text/x-python",
   "name": "python",
   "nbconvert_exporter": "python",
   "pygments_lexer": "ipython3",
   "version": "3.6.7"
  }
 },
 "nbformat": 4,
 "nbformat_minor": 4
}
