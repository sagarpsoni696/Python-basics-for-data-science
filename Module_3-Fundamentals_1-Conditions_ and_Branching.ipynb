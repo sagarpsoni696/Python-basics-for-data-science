{
 "cells": [
  {
   "cell_type": "markdown",
   "metadata": {},
   "source": [
    "# Conditions and branching"
   ]
  },
  {
   "cell_type": "markdown",
   "metadata": {},
   "source": [
    "Python supports the usual logical conditions from mathematics:\n",
    "\n",
    "- Equals: a == b\n",
    "- Not Equals: a != b\n",
    "- Less than: a < b\n",
    "- Less than or equal to: a <= b\n",
    "- Greater than: a > b\n",
    "- Greater than or equal to: a >= b"
   ]
  },
  {
   "cell_type": "code",
   "execution_count": null,
   "metadata": {},
   "outputs": [],
   "source": [
    "# To use the equal operation remember to use a double equal sign: \"==\"\n",
    "print(6==(3*2))"
   ]
  },
  {
   "cell_type": "code",
   "execution_count": 5,
   "metadata": {},
   "outputs": [
    {
     "name": "stdout",
     "output_type": "stream",
     "text": [
      "True\n"
     ]
    }
   ],
   "source": [
    "# Greater or smaller are as usual, if needs to include the greater/lesser and equal\n",
    "print(6>=6)"
   ]
  },
  {
   "cell_type": "code",
   "execution_count": 6,
   "metadata": {},
   "outputs": [
    {
     "data": {
      "text/plain": [
       "False"
      ]
     },
     "execution_count": 6,
     "metadata": {},
     "output_type": "execute_result"
    }
   ],
   "source": [
    "# The symbol for \"different from\" is made with an exclamation mark before the equal sign\n",
    "6 != 6"
   ]
  },
  {
   "cell_type": "code",
   "execution_count": 32,
   "metadata": {},
   "outputs": [
    {
     "name": "stdout",
     "output_type": "stream",
     "text": [
      "a is equal to b\n"
     ]
    }
   ],
   "source": [
    "# Branching allow us to run different statements for different inputs\n",
    "# A \"if\" and \"else\" are a branching statement\n",
    "a = 6\n",
    "b = 6\n",
    "if (a == b):  # Note the syntax with the column (parentheses are not necessary)\n",
    "# print(\"a is equal to 6\") # This will throw an error because of the *indentation*!\n",
    "    print(\"a is equal to b\") # The same command will work fine when indented\n",
    "\n"
   ]
  },
  {
   "cell_type": "code",
   "execution_count": 33,
   "metadata": {},
   "outputs": [
    {
     "name": "stdout",
     "output_type": "stream",
     "text": [
      "C is equal to 4\n"
     ]
    }
   ],
   "source": [
    "# The \"elif\" statement allows to check multiple expressions for True and execute a block of code as soon as one of the conditions evaluates to True.\n",
    "# Similar to the else, the elif statement is optional. \n",
    "# However, unlike else, for which there can be at most one statement, there can be an arbitrary number of elif statements following an if.\n",
    "c = 4\n",
    "if (c == 1):\n",
    "    print(\"c is equal to 1\")\n",
    "elif (c==2):\n",
    "      print(\"c is equal to 2\")\n",
    "elif (c==3):\n",
    "      print(\"c is equal to 2\")\n",
    "elif (c==4):\n",
    "      print(\"C is equal to 4\")  \n",
    " \n"
   ]
  },
  {
   "cell_type": "code",
   "execution_count": 35,
   "metadata": {},
   "outputs": [
    {
     "name": "stdout",
     "output_type": "stream",
     "text": [
      "a is not equal to b\n"
     ]
    }
   ],
   "source": [
    "# Similar syntax and indentation rules must be applied to \"else\" \n",
    "# The else keyword catches anything which isn't caught by the preceding conditions.\n",
    "a = 6\n",
    "b = 5\n",
    "if (a==b):\n",
    "    print(\"a is equal to b\")\n",
    "    # else: # if placed here it will not work, it will report error\n",
    "elif (a==3):\n",
    "    print(\"a is equal to 3\")\n",
    "else: # remember the indentation\n",
    "    print(\"a is not equal to b\")"
   ]
  },
  {
   "cell_type": "code",
   "execution_count": 37,
   "metadata": {},
   "outputs": [
    {
     "name": "stdout",
     "output_type": "stream",
     "text": [
      "Both conditions are True\n",
      "At least one of the conditions is True\n"
     ]
    }
   ],
   "source": [
    "# Logic operators take boolean values and report boolean values\n",
    "# The logic operators are written lowcase\n",
    "a = 3\n",
    "b = 2\n",
    "c = 4\n",
    "if a > b and c > a:\n",
    "  print(\"Both conditions are True\")\n",
    "if a > b or c > a:\n",
    "  print(\"At least one of the conditions is True\")"
   ]
  },
  {
   "cell_type": "code",
   "execution_count": null,
   "metadata": {},
   "outputs": [],
   "source": []
  }
 ],
 "metadata": {
  "kernelspec": {
   "display_name": "Python",
   "language": "python",
   "name": "conda-env-python-py"
  },
  "language_info": {
   "codemirror_mode": {
    "name": "ipython",
    "version": 3
   },
   "file_extension": ".py",
   "mimetype": "text/x-python",
   "name": "python",
   "nbconvert_exporter": "python",
   "pygments_lexer": "ipython3",
   "version": "3.6.7"
  }
 },
 "nbformat": 4,
 "nbformat_minor": 4
}
