{
 "cells": [
  {
   "cell_type": "markdown",
   "metadata": {
    "scrolled": false
   },
   "source": [
    "# IBM: PY0101EN\n",
    "## Python Basics for Data Science on EdX.com"
   ]
  },
  {
   "cell_type": "code",
   "execution_count": 114,
   "metadata": {
    "collapsed": true
   },
   "outputs": [
    {
     "name": "stdout",
     "output_type": "stream",
     "text": [
      "3.7.3 (default, Apr 24 2019, 15:29:51) [MSC v.1915 64 bit (AMD64)]\n"
     ]
    }
   ],
   "source": [
    "# Check the Python Version\n",
    "import sys \n",
    "print(sys.version)\n",
    "# Note: sys is a built-in module that contains many system-specific parameters and functions, including the Python version in use. Before using it, we must explictly import it."
   ]
  },
  {
   "cell_type": "markdown",
   "metadata": {},
   "source": [
    "Python is what is called an **interpreted language**. Python interprets your script line by line as it executes it. Python will stop executing the entire program when it encounters an error (unless the error is expected and handled by the programmer, a more advanced subject that we'll cover later on in this course). In contrast, Compiled languages examine your entire program at compile time, and are able to warn you about a whole class of errors prior to execution."
   ]
  },
  {
   "cell_type": "code",
   "execution_count": 11,
   "metadata": {
    "collapsed": true
   },
   "outputs": [
    {
     "name": "stdout",
     "output_type": "stream",
     "text": [
      "Hello Python World!\n"
     ]
    }
   ],
   "source": [
    "# Print \"Hello Python World!\"\n",
    "print(\"Hello Python World!\")"
   ]
  },
  {
   "cell_type": "code",
   "execution_count": 19,
   "metadata": {
    "collapsed": true
   },
   "outputs": [
    {
     "data": {
      "text/plain": [
       "str"
      ]
     },
     "execution_count": 19,
     "metadata": {},
     "output_type": "execute_result"
    }
   ],
   "source": [
    "# To know what \"type\" a variable is, just write \"type(var_name)\"\n",
    "a_string = \"Hello!\"\n",
    "type(a_string)"
   ]
  },
  {
   "cell_type": "code",
   "execution_count": 27,
   "metadata": {
    "collapsed": true
   },
   "outputs": [
    {
     "name": "stdout",
     "output_type": "stream",
     "text": [
      "2\n",
      "2.0\n"
     ]
    }
   ],
   "source": [
    "# \"Typecasting\" is called the process of converting a variable from a type to another\n",
    "a_int = 2\n",
    "print(a_int)\n",
    "converted_var = float(a_int) # Convert a var into a float number\n",
    "print(converted_var)"
   ]
  },
  {
   "cell_type": "code",
   "execution_count": 35,
   "metadata": {
    "collapsed": true
   },
   "outputs": [
    {
     "name": "stdout",
     "output_type": "stream",
     "text": [
      "1.0\n"
     ]
    }
   ],
   "source": [
    "# Note that strings can also be converted into float or int, but only when the string is a number\n",
    "string_numb = \"1\"\n",
    "string_char = \"A\"\n",
    "print(float(string_numb))\n",
    "print(float(string_char)) # This will throw an error, comment it to make the code works"
   ]
  },
  {
   "cell_type": "code",
   "execution_count": 46,
   "metadata": {
    "collapsed": true
   },
   "outputs": [
    {
     "name": "stdout",
     "output_type": "stream",
     "text": [
      "1\n",
      "True\n",
      "0\n",
      "True\n"
     ]
    }
   ],
   "source": [
    "# Be careful on type casting Boolean var\n",
    "print(int(True))   # Convert True to 1\n",
    "print(bool(1))     # Convert 1 to True\n",
    "print(int(False))  # Convert False to 0 \n",
    "print(bool(2))     # Convert 0 to False\n",
    "# PS: Note that Pyhton is case-sensitive: True =/= TRUE. "
   ]
  },
  {
   "cell_type": "code",
   "execution_count": 50,
   "metadata": {
    "collapsed": true
   },
   "outputs": [
    {
     "name": "stdout",
     "output_type": "stream",
     "text": [
      "6.25\n",
      "6\n"
     ]
    }
   ],
   "source": [
    "# Operations of division will report a float type\n",
    "print(25/4)\n",
    "# However, we can request the result as a rounded int type \n",
    "print(25//4)"
   ]
  },
  {
   "cell_type": "code",
   "execution_count": 110,
   "metadata": {
    "collapsed": true
   },
   "outputs": [
    {
     "name": "stdout",
     "output_type": "stream",
     "text": [
      "A\n",
      "!\n",
      "o\n",
      "An\n",
      "Ade clo\n",
      "0246\n",
      "135\n",
      "Ade\n",
      "14\n",
      "Andrea Scalco! Great work!\n",
      "Andrea Scalco!Andrea Scalco!\n"
     ]
    }
   ],
   "source": [
    "# String can be thought as an arrays of letters, which are associated with an index (like touples)\n",
    "# PS: Remember that the first letter correspond to zero.\n",
    "myname = \"Andrea Scalco!\"\n",
    "print(myname[0])\n",
    "# String can be also called used negative names, with \"-1\" being the last character\n",
    "print(myname[-1])\n",
    "print(myname[-2])\n",
    "# Note that if you call a sequence the last index is not included\n",
    "print(myname[0:2]) # Calls for 3 char, but report 2: the last one is not included in the command\n",
    "# If you can think a string as a touple, we can perform operations on them, like calling every the letter every 2 characters\n",
    "print(myname[0::2])\n",
    "numbers = \"0123456\"\n",
    "print(numbers[0::2]) # Obtain the even elements (every two starting from the first char of the string)\n",
    "print(numbers[1::2]) # Obtain the odd elements (every two starting from the second char of the string)\n",
    "# We can also incorporate slicing. In this case, we return every second value up to index four (not that we should write 5)\n",
    "print(myname[0:5:2]) # \"0:5\" means from to zero to four, \"2\" means every two\n",
    "# To know the lentght of a string simply type \"len\"\n",
    "print(len(myname))\n",
    "# To concatenate strings just use the operator \"+\"\n",
    "print(myname + \" Great work!\")\n",
    "# We can also replicate the string using the operator \"*\"\n",
    "print(myname * 2)"
   ]
  },
  {
   "cell_type": "code",
   "execution_count": 91,
   "metadata": {
    "collapsed": true
   },
   "outputs": [
    {
     "ename": "NameError",
     "evalue": "name 'F' is not defined",
     "output_type": "error",
     "traceback": [
      "\u001b[1;31m---------------------------------------------------------------------------\u001b[0m",
      "\u001b[1;31mNameError\u001b[0m                                 Traceback (most recent call last)",
      "\u001b[1;32m<ipython-input-91-3607464fc465>\u001b[0m in \u001b[0;36m<module>\u001b[1;34m\u001b[0m\n\u001b[0;32m      1\u001b[0m \u001b[1;31m# Note that STRINGS are IMMUTABLE: we cannot assign a character to a variable of type string\u001b[0m\u001b[1;33m\u001b[0m\u001b[1;33m\u001b[0m\u001b[1;33m\u001b[0m\u001b[0m\n\u001b[1;32m----> 2\u001b[1;33m \u001b[0mmyname\u001b[0m\u001b[1;33m[\u001b[0m\u001b[1;36m0\u001b[0m\u001b[1;33m]\u001b[0m \u001b[1;33m=\u001b[0m \u001b[0mF\u001b[0m\u001b[1;33m\u001b[0m\u001b[1;33m\u001b[0m\u001b[0m\n\u001b[0m",
      "\u001b[1;31mNameError\u001b[0m: name 'F' is not defined"
     ]
    }
   ],
   "source": [
    "# Note that STRINGS are IMMUTABLE: we cannot assign a character to a variable of type string\n",
    "myname[0] = F # This will throw an error"
   ]
  },
  {
   "cell_type": "code",
   "execution_count": 95,
   "metadata": {
    "collapsed": true
   },
   "outputs": [
    {
     "name": "stdout",
     "output_type": "stream",
     "text": [
      "Andrea \n",
      " Scalco!\n",
      "\\\n"
     ]
    }
   ],
   "source": [
    "# The backslash operator \"\\\" proceed \"Escape Sequence\", which are strings that are difficult to input\n",
    "print(\"Andrea \\n Scalco!\")\n",
    "# What if you want to type a simple backshash? Write it two times\n",
    "print(\"\\\\\") # If you type \"\\\" it will throw an error because it expects an escape sequence"
   ]
  },
  {
   "cell_type": "code",
   "execution_count": 104,
   "metadata": {
    "collapsed": true
   },
   "outputs": [
    {
     "name": "stdout",
     "output_type": "stream",
     "text": [
      "Andrea Scalco!\n",
      "ANDREA SCALCO!\n",
      "Alberto Scalco!\n",
      "7\n",
      "0\n",
      "-1\n"
     ]
    }
   ],
   "source": [
    "# Strings can be manipulated by using both \"Sequence methods\" (that works generally) and \"String methods\" (that works only on strings)\n",
    "# Some specific strings method are the following ones.\n",
    "# PS: Note the way to call the method: \"variable_name.method\"\n",
    "print(myname)\n",
    "# \"upper()\" makes the string upper case\n",
    "print(myname.upper()) \n",
    "# \"replace()\" substitutes part of the original string with a new part\n",
    "print(myname.replace(\"Andrea\", \"Alberto\"))\n",
    "# \"find()\" finds the starting point of the substring indicated as argument\n",
    "print(myname.find(\"Sca\"))\n",
    "print(myname.find(\"A\")) # Note that if the substring appears more than once, it simply report the index of the first appereance\n",
    "# If the substring is not in the original string the output is a negative number (\"-1\")\n",
    "print(myname.find(\"TNT\"))\n",
    "\n"
   ]
  },
  {
   "cell_type": "code",
   "execution_count": null,
   "metadata": {
    "collapsed": true
   },
   "outputs": [],
   "source": []
  }
 ],
 "metadata": {
  "kernelspec": {
   "display_name": "Python 3",
   "language": "python",
   "name": "python3"
  },
  "language_info": {
   "codemirror_mode": {
    "name": "ipython",
    "version": 3
   },
   "file_extension": ".py",
   "mimetype": "text/x-python",
   "name": "python",
   "nbconvert_exporter": "python",
   "pygments_lexer": "ipython3",
   "version": "3.7.3"
  }
 },
 "nbformat": 4,
 "nbformat_minor": 2
}
