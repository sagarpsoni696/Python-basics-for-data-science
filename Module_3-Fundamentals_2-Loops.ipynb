{
 "cells": [
  {
   "cell_type": "markdown",
   "metadata": {},
   "source": [
    "# Python Programming Fundamentals\n",
    "## Loops"
   ]
  },
  {
   "cell_type": "code",
   "execution_count": 11,
   "metadata": {},
   "outputs": [
    {
     "name": "stdout",
     "output_type": "stream",
     "text": [
      "0\n",
      "1\n",
      "2\n",
      "3\n",
      "4\n",
      "5\n"
     ]
    }
   ],
   "source": [
    "# The function \"range()\" is used in loops\n",
    "# Its syntax is \"range(start, stop, step)\"\n",
    "# If only one argument is passed, it will create a sequence from 0 to the value of the argument\n",
    "range_for_x = range(6)\n",
    "for x in range_for_x:\n",
    "    print(x)\n",
    "# Note that it always stop before the passed arguments."
   ]
  },
  {
   "cell_type": "code",
   "execution_count": 12,
   "metadata": {},
   "outputs": [
    {
     "name": "stdout",
     "output_type": "stream",
     "text": [
      "6\n",
      "7\n",
      "8\n",
      "9\n"
     ]
    }
   ],
   "source": [
    "# If two argumetns are passed it will create a sequence inbetween the passed arguments\n",
    "range_for_x = range(6, 10)\n",
    "for x in range_for_x:\n",
    "    print(x)"
   ]
  },
  {
   "cell_type": "code",
   "execution_count": 16,
   "metadata": {},
   "outputs": [
    {
     "name": "stdout",
     "output_type": "stream",
     "text": [
      "0\n",
      "2\n",
      "4\n",
      "6\n",
      "8\n",
      "10\n"
     ]
    }
   ],
   "source": [
    "# Three arguments create a sequence with a step\n",
    "range_for_x = range(0, 11, 2)\n",
    "for x in range_for_x:\n",
    "    print(x)"
   ]
  },
  {
   "cell_type": "code",
   "execution_count": 18,
   "metadata": {},
   "outputs": [
    {
     "data": {
      "text/plain": [
       "range(0, 5)"
      ]
     },
     "execution_count": 18,
     "metadata": {},
     "output_type": "execute_result"
    }
   ],
   "source": [
    "# Important! If using Python 3 and not 2, \"range()\" function does not create a list explicitly with those values\n",
    "range(5) # This returns \"range(0, 5)\""
   ]
  },
  {
   "cell_type": "code",
   "execution_count": 23,
   "metadata": {},
   "outputs": [
    {
     "name": "stdout",
     "output_type": "stream",
     "text": [
      "['red', 'yellow', 'green', 'purple', 'blue']\n",
      "['white', 'white', 'white', 'white', 'white']\n"
     ]
    }
   ],
   "source": [
    "# This is an example of loop\n",
    "squares = [\"red\", \"yellow\", \"green\", \"purple\", \"blue\"]  # a list of colours\n",
    "print(squares)\n",
    "for i in range(0,5):    # remember the column!\n",
    "    squares[i]=\"white\"\n",
    "    # print(squares)    # note that if you place here the next command it will be considered part of the loop\n",
    "print(squares)          # the indentation states that this a new command out of the loop"
   ]
  },
  {
   "cell_type": "code",
   "execution_count": 24,
   "metadata": {},
   "outputs": [
    {
     "name": "stdout",
     "output_type": "stream",
     "text": [
      "red\n",
      "yellow\n",
      "green\n"
     ]
    }
   ],
   "source": [
    "# We can iterate a list directly (i.e. without indexes!) in Python\n",
    "squares = [\"red\", \"yellow\", \"green\"]\n",
    "for s in squares: # This will take each element of in the list \"squares\" \n",
    "    print(s)\n",
    "# Note that when the start/end point of the list is not specified (like \"squares(1,3)\"), the var \"s\" represents elements"
   ]
  },
  {
   "cell_type": "code",
   "execution_count": 16,
   "metadata": {},
   "outputs": [
    {
     "name": "stdout",
     "output_type": "stream",
     "text": [
      "red\n",
      "0\n",
      "yellow\n",
      "1\n",
      "green\n",
      "2\n"
     ]
    }
   ],
   "source": [
    "# A useful function for iterating data is \"enumarete(\")\n",
    "# It can be used to obtain the index and the element of a list \n",
    "squares = [\"red\", \"yellow\", \"green\"]\n",
    "for i, s in enumerate(squares):  # The first var is the index, the second the element \n",
    "    print(s) # element\n",
    "    print(i) # index"
   ]
  },
  {
   "cell_type": "code",
   "execution_count": 19,
   "metadata": {},
   "outputs": [
    {
     "name": "stdout",
     "output_type": "stream",
     "text": [
      "['orange', 'orange']\n"
     ]
    }
   ],
   "source": [
    "# \"While()\" will run a piece of code only if a statement is true\n",
    "squares = [\"orange\", \"orange\", \"purple\", \"blue\"]\n",
    "new_squares = []\n",
    "i = 0\n",
    "while(squares[i] == \"orange\"):\n",
    "    new_squares.append(squares[i])\n",
    "    i = i + 1\n",
    "print(new_squares)"
   ]
  },
  {
   "cell_type": "code",
   "execution_count": null,
   "metadata": {},
   "outputs": [],
   "source": []
  }
 ],
 "metadata": {
  "kernelspec": {
   "display_name": "Python",
   "language": "python",
   "name": "conda-env-python-py"
  },
  "language_info": {
   "codemirror_mode": {
    "name": "ipython",
    "version": 3
   },
   "file_extension": ".py",
   "mimetype": "text/x-python",
   "name": "python",
   "nbconvert_exporter": "python",
   "pygments_lexer": "ipython3",
   "version": "3.6.7"
  }
 },
 "nbformat": 4,
 "nbformat_minor": 4
}
